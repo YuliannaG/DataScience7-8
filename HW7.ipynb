{
  "nbformat": 4,
  "nbformat_minor": 0,
  "metadata": {
    "colab": {
      "provenance": [],
      "toc_visible": true,
      "authorship_tag": "ABX9TyP3X1cbw5dq5rkxWPHpbGp7",
      "include_colab_link": true
    },
    "kernelspec": {
      "name": "python3",
      "display_name": "Python 3"
    },
    "language_info": {
      "name": "python"
    }
  },
  "cells": [
    {
      "cell_type": "markdown",
      "metadata": {
        "id": "view-in-github",
        "colab_type": "text"
      },
      "source": [
        "<a href=\"https://colab.research.google.com/github/YuliannaG/DataScience7-8/blob/main/HW7.ipynb\" target=\"_parent\"><img src=\"https://colab.research.google.com/assets/colab-badge.svg\" alt=\"Open In Colab\"/></a>"
      ]
    },
    {
      "cell_type": "markdown",
      "source": [
        "# HW7"
      ],
      "metadata": {
        "id": "vYBEUyBR4mIR"
      }
    },
    {
      "cell_type": "markdown",
      "source": [
        "Завдання 1\n"
      ],
      "metadata": {
        "id": "iS8D4erv4h9v"
      }
    },
    {
      "cell_type": "code",
      "execution_count": null,
      "metadata": {
        "colab": {
          "base_uri": "https://localhost:8080/"
        },
        "id": "da-jK_Foq7rk",
        "outputId": "f37873d9-0e59-40e8-e19e-848494c759bf"
      },
      "outputs": [
        {
          "output_type": "execute_result",
          "data": {
            "text/plain": [
              "RidgeClassifier(fit_intercept=False, max_iter=5000)"
            ]
          },
          "metadata": {},
          "execution_count": 20
        }
      ],
      "source": [
        "from sklearn.datasets import load_wine, load_iris\n",
        "from sklearn.model_selection import train_test_split\n",
        "\n",
        "import numpy as np\n",
        "import matplotlib.pyplot as plt\n",
        "\n",
        "from sklearn import linear_model\n",
        "\n",
        "wine_dataset = load_wine(as_frame=True)\n",
        "raw_X, y = load_wine(return_X_y=True)\n",
        "X_train, X_test, y_train, y_test = train_test_split(raw_X, y, test_size=0.2, shuffle=True, random_state=0)\n",
        "\n",
        "model = linear_model.RidgeClassifier(fit_intercept = False, max_iter=5000)\n",
        "model.fit(X_train, y_train)"
      ]
    },
    {
      "cell_type": "code",
      "source": [
        "model.coef_"
      ],
      "metadata": {
        "colab": {
          "base_uri": "https://localhost:8080/"
        },
        "id": "5lQQ21z1wwMu",
        "outputId": "74d8d7f4-dea6-4176-c2c7-9c3ca37fdc70"
      },
      "execution_count": null,
      "outputs": [
        {
          "output_type": "execute_result",
          "data": {
            "text/plain": [
              "array([[-0.24532321,  0.05173108,  0.28005745, -0.12331069,  0.01782176,\n",
              "         0.22652047,  0.07812392,  0.0056122 ,  0.05788827,  0.05357167,\n",
              "         0.01306804,  0.30565229,  0.00117238],\n",
              "       [ 0.16034414, -0.16099233, -0.45286404,  0.11973131, -0.01490017,\n",
              "        -0.26818876,  0.18729188, -0.06921194,  0.19746499, -0.21273894,\n",
              "         0.17572174, -0.1118734 , -0.00063718],\n",
              "       [ 0.01710476,  0.10695146,  0.18057947, -0.0071185 , -0.0021716 ,\n",
              "         0.03791928, -0.2588867 ,  0.05209408, -0.24994358,  0.17126353,\n",
              "        -0.20802251, -0.20076225, -0.00058153]])"
            ]
          },
          "metadata": {},
          "execution_count": 8
        }
      ]
    },
    {
      "cell_type": "code",
      "source": [
        "model.score(X_train, y_train)"
      ],
      "metadata": {
        "colab": {
          "base_uri": "https://localhost:8080/"
        },
        "id": "jbnf_UeL0hWv",
        "outputId": "d87df6ad-0ae4-4332-b57e-266b1008e037"
      },
      "execution_count": null,
      "outputs": [
        {
          "output_type": "execute_result",
          "data": {
            "text/plain": [
              "0.9859154929577465"
            ]
          },
          "metadata": {},
          "execution_count": 21
        }
      ]
    },
    {
      "cell_type": "code",
      "source": [
        "model.score(X_test, y_test)"
      ],
      "metadata": {
        "colab": {
          "base_uri": "https://localhost:8080/"
        },
        "id": "W00XGvB92Xno",
        "outputId": "cb5ec1e5-2b1a-40bb-9710-716b3ab20d10"
      },
      "execution_count": null,
      "outputs": [
        {
          "output_type": "execute_result",
          "data": {
            "text/plain": [
              "0.9166666666666666"
            ]
          },
          "metadata": {},
          "execution_count": 22
        }
      ]
    },
    {
      "cell_type": "markdown",
      "source": [
        "0.9 split = 1 and 0.93\n",
        "0.7 split = 0.98 and 0.92\n",
        "0.6 split = 0.98 and 0.94\n",
        "0.5 split = 0.97 and 0.94\n",
        "0.2  = 0.98 and 0.91\n",
        "\n",
        "best - around 0.6"
      ],
      "metadata": {
        "id": "HMfy7LWc3KIL"
      }
    },
    {
      "cell_type": "markdown",
      "source": [
        "Завдання 2"
      ],
      "metadata": {
        "id": "zF5ML8h-48e8"
      }
    },
    {
      "cell_type": "code",
      "source": [
        "iris_dataset = load_iris(as_frame=True)\n",
        "raw_X, y = load_iris(return_X_y=True)\n",
        "X_train, X_test, y_train, y_test = train_test_split(raw_X, y, test_size=0.3, shuffle=True, random_state=0)\n",
        "clasifier = linear_model.RidgeClassifier(random_state=0,max_iter = 5000)\n",
        "clasifier.fit(X_train, y_train)"
      ],
      "metadata": {
        "colab": {
          "base_uri": "https://localhost:8080/"
        },
        "id": "2-85Hwd349u8",
        "outputId": "9318fa53-4b4b-4227-9f1f-1c2748217b79"
      },
      "execution_count": null,
      "outputs": [
        {
          "output_type": "execute_result",
          "data": {
            "text/plain": [
              "RidgeClassifier(max_iter=5000, random_state=0)"
            ]
          },
          "metadata": {},
          "execution_count": 24
        }
      ]
    },
    {
      "cell_type": "code",
      "source": [
        "clasifier.predict(X_test[:10, :])"
      ],
      "metadata": {
        "colab": {
          "base_uri": "https://localhost:8080/"
        },
        "id": "nJ-zeCKl8GVN",
        "outputId": "f96c016e-9082-4f3b-ebd2-1bee3c575271"
      },
      "execution_count": null,
      "outputs": [
        {
          "output_type": "execute_result",
          "data": {
            "text/plain": [
              "array([2, 1, 0, 2, 0, 2, 0, 2, 1, 1])"
            ]
          },
          "metadata": {},
          "execution_count": 25
        }
      ]
    },
    {
      "cell_type": "code",
      "source": [
        "y_test[:10]"
      ],
      "metadata": {
        "colab": {
          "base_uri": "https://localhost:8080/"
        },
        "id": "A8uBpLS-9c_D",
        "outputId": "9721bfe3-c63c-4a4c-bac8-befec4cc1b32"
      },
      "execution_count": null,
      "outputs": [
        {
          "output_type": "execute_result",
          "data": {
            "text/plain": [
              "array([2, 1, 0, 2, 0, 2, 0, 1, 1, 1])"
            ]
          },
          "metadata": {},
          "execution_count": 26
        }
      ]
    },
    {
      "cell_type": "code",
      "source": [
        "clasifier.score(X_test, y_test)"
      ],
      "metadata": {
        "colab": {
          "base_uri": "https://localhost:8080/"
        },
        "id": "et6FNkxb9RyX",
        "outputId": "a0a7f298-80a1-460c-a14c-2348e6c2088e"
      },
      "execution_count": null,
      "outputs": [
        {
          "output_type": "execute_result",
          "data": {
            "text/plain": [
              "0.7555555555555555"
            ]
          },
          "metadata": {},
          "execution_count": 27
        }
      ]
    },
    {
      "cell_type": "markdown",
      "source": [
        "Завдання 3"
      ],
      "metadata": {
        "id": "CuEY1oFY995A"
      }
    },
    {
      "cell_type": "code",
      "source": [
        "from sklearn.datasets import load_diabetes\n",
        "from sklearn.metrics import mean_squared_error, r2_score\n",
        "from sklearn.metrics import recall_score, precision_score\n",
        "from sklearn.model_selection import train_test_split\n",
        "from sklearn import linear_model\n",
        "\n",
        "\n",
        "\n",
        "diabetes_dataset = load_diabetes(as_frame=True)\n",
        "X,y = load_diabetes(return_X_y=True)\n",
        "X_train, X_test, y_train, y_test = train_test_split(X, y, test_size=0.2, shuffle=True, random_state=0)\n",
        "regr = linear_model.LinearRegression()\n",
        "regr.fit(X_train, y_train)"
      ],
      "metadata": {
        "colab": {
          "base_uri": "https://localhost:8080/"
        },
        "id": "eMYx4e8H-ASW",
        "outputId": "0d1cf153-7868-4ee4-8cfe-d777e30620ac"
      },
      "execution_count": null,
      "outputs": [
        {
          "output_type": "execute_result",
          "data": {
            "text/plain": [
              "LinearRegression()"
            ]
          },
          "metadata": {},
          "execution_count": 29
        }
      ]
    },
    {
      "cell_type": "code",
      "source": [
        "y_pred = regr.predict(X_test)\n",
        "y_pred.shape"
      ],
      "metadata": {
        "colab": {
          "base_uri": "https://localhost:8080/"
        },
        "id": "oeT99pgL_KFL",
        "outputId": "a477e580-7376-4109-9a43-be516df3e0f2"
      },
      "execution_count": null,
      "outputs": [
        {
          "output_type": "execute_result",
          "data": {
            "text/plain": [
              "(89,)"
            ]
          },
          "metadata": {},
          "execution_count": 30
        }
      ]
    },
    {
      "cell_type": "code",
      "source": [
        "y_pred"
      ],
      "metadata": {
        "colab": {
          "base_uri": "https://localhost:8080/"
        },
        "id": "apmK568MWJzN",
        "outputId": "53af45a5-060d-42ff-dc29-6ed0d77d175b"
      },
      "execution_count": null,
      "outputs": [
        {
          "output_type": "execute_result",
          "data": {
            "text/plain": [
              "array([238.47145247, 248.93170646, 164.05404165, 120.30794355,\n",
              "       187.42422054, 259.04865002, 113.55556372, 188.07597044,\n",
              "       149.49663441, 236.01099949, 172.24629506, 178.88073764,\n",
              "       109.15751983,  92.13508975, 243.33042043,  87.356971  ,\n",
              "       155.72606406,  66.99073989, 100.42610442, 218.09422877,\n",
              "       196.66287912, 161.29832968, 161.70779605, 156.52520454,\n",
              "       197.88796516, 167.57984206, 120.74478913,  84.83879727,\n",
              "       192.03728687, 160.60687024, 175.17178362,  84.22833237,\n",
              "       145.7995542 , 145.97333493, 140.96488953, 197.00421108,\n",
              "       165.94322494, 190.65906468, 128.22520508, 206.41941223,\n",
              "        84.35851196, 164.0256504 , 144.1056776 , 184.68355549,\n",
              "       177.80238966,  74.32855231, 143.3660286 , 138.67726085,\n",
              "       120.81146113, 234.34252077, 161.94390244,  74.5455476 ,\n",
              "       154.71905074, 156.78884927, 237.42227096, 174.23053048,\n",
              "       190.88212635, 118.98373473, 132.20418974, 168.52674824,\n",
              "       214.74245466, 171.42364091, 157.37409906, 108.86927343,\n",
              "       257.06329636, 152.17777143,  82.43686464, 231.56746032,\n",
              "       202.90641336,  47.18340199,  78.46954525, 129.30170908,\n",
              "       104.60253144, 144.65200281, 132.27974254, 190.04134164,\n",
              "        97.55541138, 197.51891007, 219.13709291, 186.13797012,\n",
              "       149.60913007, 208.42379455,  44.59036026, 206.20925368,\n",
              "        76.77377721,  94.94046865, 145.2955051 , 194.03776373,\n",
              "       132.78534336])"
            ]
          },
          "metadata": {},
          "execution_count": 31
        }
      ]
    },
    {
      "cell_type": "code",
      "source": [
        "y_test.shape"
      ],
      "metadata": {
        "colab": {
          "base_uri": "https://localhost:8080/"
        },
        "id": "biTK95o7VD8v",
        "outputId": "b6482fa7-4fce-4e4b-81f0-b47457f97b36"
      },
      "execution_count": null,
      "outputs": [
        {
          "output_type": "execute_result",
          "data": {
            "text/plain": [
              "(89,)"
            ]
          },
          "metadata": {},
          "execution_count": 32
        }
      ]
    },
    {
      "cell_type": "code",
      "source": [
        "y_test"
      ],
      "metadata": {
        "colab": {
          "base_uri": "https://localhost:8080/"
        },
        "id": "Z_eySPr6WJ7J",
        "outputId": "62908595-b86b-4399-f425-092d7dbb91fd"
      },
      "execution_count": null,
      "outputs": [
        {
          "output_type": "execute_result",
          "data": {
            "text/plain": [
              "array([321., 215., 127.,  64., 175., 275., 179., 232., 142.,  99., 252.,\n",
              "       174., 129.,  74., 264.,  49.,  86.,  75., 101., 155., 170., 276.,\n",
              "       110., 136.,  68., 128., 103.,  93., 191., 196., 217., 181., 168.,\n",
              "       200., 219., 281., 151., 257.,  49., 198.,  96., 179.,  95., 198.,\n",
              "       244.,  89., 214., 182.,  84., 270., 156., 138., 113., 131., 195.,\n",
              "       171., 122.,  61., 230., 235.,  52., 121., 144., 107., 132., 302.,\n",
              "        53., 317., 137.,  57.,  98., 170.,  88.,  90.,  67., 163., 104.,\n",
              "       186., 180., 283., 141., 150.,  47., 297., 104.,  49., 103., 142.,\n",
              "        59.])"
            ]
          },
          "metadata": {},
          "execution_count": 33
        }
      ]
    },
    {
      "cell_type": "code",
      "source": [
        "regr.score(X_test, y_test)"
      ],
      "metadata": {
        "id": "WDzaq7m1b8WY",
        "outputId": "414560ec-1cc9-4cce-a042-0291abd9e0f4",
        "colab": {
          "base_uri": "https://localhost:8080/"
        }
      },
      "execution_count": null,
      "outputs": [
        {
          "output_type": "execute_result",
          "data": {
            "text/plain": [
              "0.33222203269065176"
            ]
          },
          "metadata": {},
          "execution_count": 35
        }
      ]
    },
    {
      "cell_type": "code",
      "source": [
        "# The coefficients\n",
        "print(\"Coefficients: \\n\", regr.coef_)\n",
        "# The mean squared error\n",
        "print(\"Mean squared error: %.2f\" % mean_squared_error(y_test, y_pred))\n",
        "# The coefficient of determination: 1 is perfect prediction\n",
        "print(\"Coefficient of determination: %.2f\" % r2_score(y_test, y_pred))"
      ],
      "metadata": {
        "colab": {
          "base_uri": "https://localhost:8080/"
        },
        "id": "Kxb4-zms_jRR",
        "outputId": "db8c2841-87bc-4eeb-af95-e8d33e760914"
      },
      "execution_count": null,
      "outputs": [
        {
          "output_type": "stream",
          "name": "stdout",
          "text": [
            "Coefficients: \n",
            " [ -35.55683674 -243.1692265   562.75404632  305.47203008 -662.78772128\n",
            "  324.27527477   24.78193291  170.33056502  731.67810787   43.02846824]\n",
            "Mean squared error: 3424.32\n",
            "Coefficient of determination: 0.33\n"
          ]
        }
      ]
    }
  ]
}